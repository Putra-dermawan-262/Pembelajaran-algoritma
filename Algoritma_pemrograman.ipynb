{
  "nbformat": 4,
  "nbformat_minor": 0,
  "metadata": {
    "colab": {
      "provenance": [],
      "authorship_tag": "ABX9TyPu20/ILpgSzCznEibHDSbc",
      "include_colab_link": true
    },
    "kernelspec": {
      "name": "python3",
      "display_name": "Python 3"
    },
    "language_info": {
      "name": "python"
    }
  },
  "cells": [
    {
      "cell_type": "markdown",
      "metadata": {
        "id": "view-in-github",
        "colab_type": "text"
      },
      "source": [
        "<a href=\"https://colab.research.google.com/github/Putra-dermawan-262/Pembelajaran-algoritma/blob/main/Algoritma_pemrograman.ipynb\" target=\"_parent\"><img src=\"https://colab.research.google.com/assets/colab-badge.svg\" alt=\"Open In Colab\"/></a>"
      ]
    },
    {
      "cell_type": "markdown",
      "source": [
        "Apa itu algoritma\n",
        "\n",
        "1.algoritma adalah urutan langkah langkah logis yang digunakan untuk menyelesaikan masalah\n",
        "\n",
        "2.setiap langkah harus jelas dan dapat di eksekusi\n",
        "\n",
        "3.algoritma adalah dasar dari pemrograman komputer,membantu memecahkan masalah secara efisien\n",
        "\n",
        "Definisi program/pemrograman\n",
        "Adalah kumpulan instruksi instruksi tersendiri yang biasanya disebut source code yang di buat oleh programmer(pembuat program)\n",
        "\n",
        "\n",
        "Paradigma pemrograman\n",
        "\n",
        "1.pemrograman prosedural\n",
        "\n",
        "2.pemrograman fungsional\n",
        "\n",
        "3.pemrograman terstruktur\n",
        "\n",
        "4.pemrograman modular\n",
        "\n",
        "5.pemrograman berorientasi obyek"
      ],
      "metadata": {
        "id": "2WoJlfTYI5q5"
      }
    }
  ]
}