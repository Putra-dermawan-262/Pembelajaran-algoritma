{
  "nbformat": 4,
  "nbformat_minor": 0,
  "metadata": {
    "colab": {
      "provenance": [],
      "authorship_tag": "ABX9TyMZlmQ/5H/W4FKlS0qc9V+7",
      "include_colab_link": true
    },
    "kernelspec": {
      "name": "python3",
      "display_name": "Python 3"
    },
    "language_info": {
      "name": "python"
    }
  },
  "cells": [
    {
      "cell_type": "markdown",
      "metadata": {
        "id": "view-in-github",
        "colab_type": "text"
      },
      "source": [
        "<a href=\"https://colab.research.google.com/github/Putra-dermawan-262/Pembelajaran-algoritma/blob/main/Operator%20aritmatika.ipynb\" target=\"_parent\"><img src=\"https://colab.research.google.com/assets/colab-badge.svg\" alt=\"Open In Colab\"/></a>"
      ]
    },
    {
      "cell_type": "markdown",
      "source": [
        "\n",
        "OPERATOR ARITMATIKA\n",
        "\n",
        "1.penjumlahan=+\n",
        "\n",
        "2.pengurangan=-\n",
        "\n",
        "3.perkalian=*\n",
        "\n",
        "4.perpangkatan=^\n",
        "\n",
        "5.pembagian=/\n",
        "\n",
        "6.modulus(persen)=%"
      ],
      "metadata": {
        "id": "VnYF3_knWHCV"
      }
    },
    {
      "cell_type": "code",
      "source": [
        "\n",
        "#contoh penjumlahan\n",
        "a=20\n",
        "b=80\n",
        "c=a+b\n",
        "print(c)"
      ],
      "metadata": {
        "colab": {
          "base_uri": "https://localhost:8080/"
        },
        "id": "0ey4UfOyXJyV",
        "outputId": "042cf2ea-cfe2-4374-b5ed-b47f36961fb7"
      },
      "execution_count": 1,
      "outputs": [
        {
          "output_type": "stream",
          "name": "stdout",
          "text": [
            "100\n"
          ]
        }
      ]
    },
    {
      "cell_type": "code",
      "source": [
        "#contoh pengurangan\n",
        "a=80\n",
        "b=20\n",
        "c=a-b\n",
        "print(c)"
      ],
      "metadata": {
        "colab": {
          "base_uri": "https://localhost:8080/"
        },
        "id": "bqZVB5sqXiEq",
        "outputId": "edd3717e-3cf1-4222-fc89-46f3c63a6465"
      },
      "execution_count": 6,
      "outputs": [
        {
          "output_type": "stream",
          "name": "stdout",
          "text": [
            "60\n"
          ]
        }
      ]
    },
    {
      "cell_type": "code",
      "source": [
        "#contoh perkalian\n",
        "a=40\n",
        "b=40\n",
        "c=a*b\n",
        "print(c)"
      ],
      "metadata": {
        "colab": {
          "base_uri": "https://localhost:8080/"
        },
        "id": "HDzHszqhYQH7",
        "outputId": "d04545e1-654a-4cd1-b2cb-87f2112eb3a5"
      },
      "execution_count": 7,
      "outputs": [
        {
          "output_type": "stream",
          "name": "stdout",
          "text": [
            "1600\n"
          ]
        }
      ]
    },
    {
      "cell_type": "code",
      "source": [
        "#contoh pembagian\n",
        "a=100\n",
        "b=50\n",
        "c=a/b\n",
        "print(c)"
      ],
      "metadata": {
        "colab": {
          "base_uri": "https://localhost:8080/"
        },
        "id": "BAEaX4IfYc0N",
        "outputId": "c32c83b4-f29c-4191-abf2-176d780c2759"
      },
      "execution_count": 8,
      "outputs": [
        {
          "output_type": "stream",
          "name": "stdout",
          "text": [
            "2.0\n"
          ]
        }
      ]
    },
    {
      "cell_type": "code",
      "source": [
        "#contoh perpangkatan\n",
        "a=7\n",
        "b=5\n",
        "c=a^b\n",
        "print(c)"
      ],
      "metadata": {
        "colab": {
          "base_uri": "https://localhost:8080/"
        },
        "id": "dOynJWYYYrxR",
        "outputId": "ca175fee-7e46-4619-e0f3-01e6cda22973"
      },
      "execution_count": 9,
      "outputs": [
        {
          "output_type": "stream",
          "name": "stdout",
          "text": [
            "2\n"
          ]
        }
      ]
    },
    {
      "cell_type": "code",
      "source": [
        "#contoh modulus(persen)\n",
        "a=7\n",
        "b=5\n",
        "c=a%b\n",
        "print(c)"
      ],
      "metadata": {
        "colab": {
          "base_uri": "https://localhost:8080/"
        },
        "id": "dKqtRN-GZDK2",
        "outputId": "677cfc9b-ed91-4094-8ad4-19bac1e7462f"
      },
      "execution_count": 10,
      "outputs": [
        {
          "output_type": "stream",
          "name": "stdout",
          "text": [
            "2\n"
          ]
        }
      ]
    }
  ]
}